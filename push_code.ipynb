{
  "nbformat": 4,
  "nbformat_minor": 0,
  "metadata": {
    "colab": {
      "provenance": [],
      "authorship_tag": "ABX9TyN5CP+eSw4W8RNKLePLAQlj",
      "include_colab_link": true
    },
    "kernelspec": {
      "name": "python3",
      "display_name": "Python 3"
    },
    "language_info": {
      "name": "python"
    }
  },
  "cells": [
    {
      "cell_type": "markdown",
      "metadata": {
        "id": "view-in-github",
        "colab_type": "text"
      },
      "source": [
        "<a href=\"https://colab.research.google.com/github/Oh-reo/test/blob/main/push_code.ipynb\" target=\"_parent\"><img src=\"https://colab.research.google.com/assets/colab-badge.svg\" alt=\"Open In Colab\"/></a>"
      ]
    },
    {
      "cell_type": "code",
      "execution_count": null,
      "metadata": {
        "colab": {
          "base_uri": "https://localhost:8080/"
        },
        "id": "8lBZoxGEHyvr",
        "outputId": "096106a2-ec96-4486-c36d-4b8c47575ffc"
      },
      "outputs": [
        {
          "output_type": "stream",
          "name": "stdout",
          "text": [
            "Mounted at /content/drive\n"
          ]
        }
      ],
      "source": [
        "from google.colab import drive\n",
        "drive.mount('/content/drive')"
      ]
    },
    {
      "cell_type": "code",
      "source": [
        "path = \"/content/drive/MyDrive/Colab Notebooks/test/\"\n",
        "%cd \"{path}\"\n",
        "%pwd"
      ],
      "metadata": {
        "colab": {
          "base_uri": "https://localhost:8080/",
          "height": 54
        },
        "id": "x_sMU8LmH7sp",
        "outputId": "26d8a419-11e4-419d-db02-18b6068ca1a0"
      },
      "execution_count": null,
      "outputs": [
        {
          "output_type": "stream",
          "name": "stdout",
          "text": [
            "/content/drive/MyDrive/Colab Notebooks/test\n"
          ]
        },
        {
          "output_type": "execute_result",
          "data": {
            "text/plain": [
              "'/content/drive/MyDrive/Colab Notebooks/test'"
            ],
            "application/vnd.google.colaboratory.intrinsic+json": {
              "type": "string"
            }
          },
          "metadata": {},
          "execution_count": 3
        }
      ]
    },
    {
      "cell_type": "code",
      "source": [
        "with open(path + \"test1.txt\", \"r\") as f:\n",
        "  cont = f.read()\n",
        "print(cont)"
      ],
      "metadata": {
        "colab": {
          "base_uri": "https://localhost:8080/"
        },
        "id": "sBffrJm3IJAZ",
        "outputId": "53b09cbd-5d60-483d-b404-74d6c68f2f3e"
      },
      "execution_count": null,
      "outputs": [
        {
          "output_type": "stream",
          "name": "stdout",
          "text": [
            "test read\n"
          ]
        }
      ]
    },
    {
      "cell_type": "code",
      "source": [
        "!git config user.email \"bd9983@gmail.com\"\n",
        "!git config user.name \"Oh-reo\""
      ],
      "metadata": {
        "id": "OJo_j-RwIXca"
      },
      "execution_count": null,
      "outputs": []
    },
    {
      "cell_type": "code",
      "source": [
        "!git status"
      ],
      "metadata": {
        "colab": {
          "base_uri": "https://localhost:8080/"
        },
        "id": "L4NEQ_IeIfAJ",
        "outputId": "5968c7fe-d04c-4d36-a244-2f4c4ab04d6b"
      },
      "execution_count": null,
      "outputs": [
        {
          "output_type": "stream",
          "name": "stdout",
          "text": [
            "On branch main\n",
            "\n",
            "No commits yet\n",
            "\n",
            "Untracked files:\n",
            "  (use \"git add <file>...\" to include in what will be committed)\n",
            "\t\u001b[31mpush_test.ipynb\u001b[m\n",
            "\t\u001b[31mtest1.txt\u001b[m\n",
            "\n",
            "nothing added to commit but untracked files present (use \"git add\" to track)\n"
          ]
        }
      ]
    },
    {
      "cell_type": "code",
      "source": [
        "!git add push_test.ipynb\n",
        "!git commit -m \"initial commit\"\n",
        "!git push origin main"
      ],
      "metadata": {
        "colab": {
          "base_uri": "https://localhost:8080/"
        },
        "id": "Z1TfdDRcIgC3",
        "outputId": "1aadb134-faed-4bd5-d0f6-53a8b312e006"
      },
      "execution_count": null,
      "outputs": [
        {
          "output_type": "stream",
          "name": "stdout",
          "text": [
            "[main (root-commit) 36cf946] initial commit\n",
            " 1 file changed, 1 insertion(+)\n",
            " create mode 100644 push_test.ipynb\n",
            "Enumerating objects: 3, done.\n",
            "Counting objects: 100% (3/3), done.\n",
            "Delta compression using up to 2 threads\n",
            "Compressing objects: 100% (2/2), done.\n",
            "Writing objects: 100% (3/3), 1.32 KiB | 337.00 KiB/s, done.\n",
            "Total 3 (delta 0), reused 0 (delta 0), pack-reused 0\n",
            "To https://github.com/Oh-reo/test.git\n",
            " * [new branch]      main -> main\n"
          ]
        }
      ]
    },
    {
      "cell_type": "code",
      "source": [
        "!git add 2_Chap3.ipynb\n",
        "!git commit -m \"initial commit\"\n",
        "!git push origin main"
      ],
      "metadata": {
        "colab": {
          "base_uri": "https://localhost:8080/"
        },
        "id": "o8VlAmOkJlNe",
        "outputId": "cec48a74-2eb7-427f-f85c-193dec098cc2"
      },
      "execution_count": null,
      "outputs": [
        {
          "output_type": "stream",
          "name": "stdout",
          "text": [
            "[main 8cd89f9] initial commit\n",
            " 1 file changed, 1 insertion(+)\n",
            " create mode 100644 2_Chap3.ipynb\n",
            "Enumerating objects: 4, done.\n",
            "Counting objects: 100% (4/4), done.\n",
            "Delta compression using up to 2 threads\n",
            "Compressing objects: 100% (3/3), done.\n",
            "Writing objects: 100% (3/3), 26.86 KiB | 3.84 MiB/s, done.\n",
            "Total 3 (delta 0), reused 0 (delta 0), pack-reused 0\n",
            "To https://github.com/Oh-reo/test.git\n",
            "   36cf946..8cd89f9  main -> main\n"
          ]
        }
      ]
    }
  ]
}